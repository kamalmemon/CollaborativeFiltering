{
 "cells": [
  {
   "cell_type": "code",
   "execution_count": 78,
   "metadata": {},
   "outputs": [],
   "source": [
    "%matplotlib inline\n",
    "%reload_ext autoreload\n",
    "%autoreload 2\n",
    "import pandas as pd\n",
    "import numpy as np\n",
    "from surprise import Reader, Dataset as SurpriseDataset\n",
    "from sklearn import preprocessing\n",
    "from surprise import SVD, NMF, KNNWithMeans, evaluate, GridSearch\n",
    "import seaborn as sns\n",
    "import matplotlib.pyplot as plt\n",
    "import seaborn as sns; sns.set()\n",
    "from surprise.model_selection import cross_validate\n",
    "import warnings\n",
    "from collections import defaultdict\n",
    "import torch\n",
    "from fastai.learner import *\n",
    "from fastai.column_data import *\n",
    "from fastai.imports import *\n",
    "warnings.filterwarnings('ignore')"
   ]
  },
  {
   "cell_type": "markdown",
   "metadata": {},
   "source": [
    "### Book-Crossing Dataset"
   ]
  },
  {
   "cell_type": "code",
   "execution_count": 5,
   "metadata": {},
   "outputs": [
    {
     "data": {
      "text/html": [
       "<div>\n",
       "<style>\n",
       "    .dataframe thead tr:only-child th {\n",
       "        text-align: right;\n",
       "    }\n",
       "\n",
       "    .dataframe thead th {\n",
       "        text-align: left;\n",
       "    }\n",
       "\n",
       "    .dataframe tbody tr th {\n",
       "        vertical-align: top;\n",
       "    }\n",
       "</style>\n",
       "<table border=\"1\" class=\"dataframe\">\n",
       "  <thead>\n",
       "    <tr style=\"text-align: right;\">\n",
       "      <th></th>\n",
       "      <th>User-ID</th>\n",
       "      <th>ISBN</th>\n",
       "      <th>Book-Rating</th>\n",
       "    </tr>\n",
       "  </thead>\n",
       "  <tbody>\n",
       "    <tr>\n",
       "      <th>0</th>\n",
       "      <td>276725</td>\n",
       "      <td>034545104X</td>\n",
       "      <td>0</td>\n",
       "    </tr>\n",
       "    <tr>\n",
       "      <th>1</th>\n",
       "      <td>276726</td>\n",
       "      <td>0155061224</td>\n",
       "      <td>5</td>\n",
       "    </tr>\n",
       "    <tr>\n",
       "      <th>2</th>\n",
       "      <td>276727</td>\n",
       "      <td>0446520802</td>\n",
       "      <td>0</td>\n",
       "    </tr>\n",
       "    <tr>\n",
       "      <th>3</th>\n",
       "      <td>276729</td>\n",
       "      <td>052165615X</td>\n",
       "      <td>3</td>\n",
       "    </tr>\n",
       "    <tr>\n",
       "      <th>4</th>\n",
       "      <td>276729</td>\n",
       "      <td>0521795028</td>\n",
       "      <td>6</td>\n",
       "    </tr>\n",
       "  </tbody>\n",
       "</table>\n",
       "</div>"
      ],
      "text/plain": [
       "   User-ID        ISBN  Book-Rating\n",
       "0   276725  034545104X            0\n",
       "1   276726  0155061224            5\n",
       "2   276727  0446520802            0\n",
       "3   276729  052165615X            3\n",
       "4   276729  0521795028            6"
      ]
     },
     "execution_count": 5,
     "metadata": {},
     "output_type": "execute_result"
    }
   ],
   "source": [
    "#loading data\n",
    "df_br = pd.read_csv('BX-Book-Ratings.csv', sep=';', encoding = \"ISO-8859-1\")\n",
    "df_br.head()"
   ]
  },
  {
   "cell_type": "code",
   "execution_count": 6,
   "metadata": {},
   "outputs": [],
   "source": [
    "##Preprocessing \n",
    "df_br.ISBN = df_br.ISBN.str.replace(r'[^\\w\\d]+', '')\n",
    "le = preprocessing.LabelEncoder()\n",
    "le.fit(df['ISBN'])\n",
    "df_br.ISBN = le.transform(df['ISBN']) \n",
    "\n",
    "# Replaced the zero rating with the average rating and remove zero rating books\n",
    "avg_ratings = df_br.groupby('ISBN')['Book-Rating'].mean().round().astype(np.int8)\n",
    "df_br.loc[df['Book-Rating'] == 0, 'Book-Rating'] = df_br.loc[df_br['Book-Rating'] == 0, 'ISBN'].map(avg_ratings)\n",
    "df_br = df_br[df_br['Book-Rating'] != 0]"
   ]
  },
  {
   "cell_type": "code",
   "execution_count": 7,
   "metadata": {},
   "outputs": [
    {
     "data": {
      "text/html": [
       "<div>\n",
       "<style>\n",
       "    .dataframe thead tr:only-child th {\n",
       "        text-align: right;\n",
       "    }\n",
       "\n",
       "    .dataframe thead th {\n",
       "        text-align: left;\n",
       "    }\n",
       "\n",
       "    .dataframe tbody tr th {\n",
       "        vertical-align: top;\n",
       "    }\n",
       "</style>\n",
       "<table border=\"1\" class=\"dataframe\">\n",
       "  <thead>\n",
       "    <tr style=\"text-align: right;\">\n",
       "      <th></th>\n",
       "      <th>User-ID</th>\n",
       "      <th>ISBN</th>\n",
       "      <th>Book-Rating</th>\n",
       "    </tr>\n",
       "  </thead>\n",
       "  <tbody>\n",
       "    <tr>\n",
       "      <th>257992</th>\n",
       "      <td>59820</td>\n",
       "      <td>121100</td>\n",
       "      <td>6</td>\n",
       "    </tr>\n",
       "    <tr>\n",
       "      <th>489875</th>\n",
       "      <td>116605</td>\n",
       "      <td>169531</td>\n",
       "      <td>7</td>\n",
       "    </tr>\n",
       "    <tr>\n",
       "      <th>267225</th>\n",
       "      <td>61845</td>\n",
       "      <td>214617</td>\n",
       "      <td>2</td>\n",
       "    </tr>\n",
       "    <tr>\n",
       "      <th>208674</th>\n",
       "      <td>48313</td>\n",
       "      <td>164306</td>\n",
       "      <td>2</td>\n",
       "    </tr>\n",
       "    <tr>\n",
       "      <th>536237</th>\n",
       "      <td>129358</td>\n",
       "      <td>64058</td>\n",
       "      <td>3</td>\n",
       "    </tr>\n",
       "  </tbody>\n",
       "</table>\n",
       "</div>"
      ],
      "text/plain": [
       "        User-ID    ISBN  Book-Rating\n",
       "257992    59820  121100            6\n",
       "489875   116605  169531            7\n",
       "267225    61845  214617            2\n",
       "208674    48313  164306            2\n",
       "536237   129358   64058            3"
      ]
     },
     "execution_count": 7,
     "metadata": {},
     "output_type": "execute_result"
    }
   ],
   "source": [
    "df_br.sample(5)"
   ]
  },
  {
   "cell_type": "code",
   "execution_count": 8,
   "metadata": {},
   "outputs": [
    {
     "data": {
      "text/html": [
       "<div>\n",
       "<style>\n",
       "    .dataframe thead tr:only-child th {\n",
       "        text-align: right;\n",
       "    }\n",
       "\n",
       "    .dataframe thead th {\n",
       "        text-align: left;\n",
       "    }\n",
       "\n",
       "    .dataframe tbody tr th {\n",
       "        vertical-align: top;\n",
       "    }\n",
       "</style>\n",
       "<table border=\"1\" class=\"dataframe\">\n",
       "  <thead>\n",
       "    <tr style=\"text-align: right;\">\n",
       "      <th></th>\n",
       "      <th>User-ID</th>\n",
       "      <th>ISBN</th>\n",
       "      <th>Book-Rating</th>\n",
       "    </tr>\n",
       "  </thead>\n",
       "  <tbody>\n",
       "    <tr>\n",
       "      <th>count</th>\n",
       "      <td>923737.000000</td>\n",
       "      <td>923737.000000</td>\n",
       "      <td>923737.000000</td>\n",
       "    </tr>\n",
       "    <tr>\n",
       "      <th>mean</th>\n",
       "      <td>138885.071174</td>\n",
       "      <td>134982.640115</td>\n",
       "      <td>5.042225</td>\n",
       "    </tr>\n",
       "    <tr>\n",
       "      <th>std</th>\n",
       "      <td>80605.266431</td>\n",
       "      <td>84248.193255</td>\n",
       "      <td>2.844468</td>\n",
       "    </tr>\n",
       "    <tr>\n",
       "      <th>min</th>\n",
       "      <td>8.000000</td>\n",
       "      <td>0.000000</td>\n",
       "      <td>1.000000</td>\n",
       "    </tr>\n",
       "    <tr>\n",
       "      <th>25%</th>\n",
       "      <td>69355.000000</td>\n",
       "      <td>73920.000000</td>\n",
       "      <td>3.000000</td>\n",
       "    </tr>\n",
       "    <tr>\n",
       "      <th>50%</th>\n",
       "      <td>138198.000000</td>\n",
       "      <td>117966.000000</td>\n",
       "      <td>4.000000</td>\n",
       "    </tr>\n",
       "    <tr>\n",
       "      <th>75%</th>\n",
       "      <td>209373.000000</td>\n",
       "      <td>187724.000000</td>\n",
       "      <td>8.000000</td>\n",
       "    </tr>\n",
       "    <tr>\n",
       "      <th>max</th>\n",
       "      <td>278854.000000</td>\n",
       "      <td>340555.000000</td>\n",
       "      <td>10.000000</td>\n",
       "    </tr>\n",
       "  </tbody>\n",
       "</table>\n",
       "</div>"
      ],
      "text/plain": [
       "             User-ID           ISBN    Book-Rating\n",
       "count  923737.000000  923737.000000  923737.000000\n",
       "mean   138885.071174  134982.640115       5.042225\n",
       "std     80605.266431   84248.193255       2.844468\n",
       "min         8.000000       0.000000       1.000000\n",
       "25%     69355.000000   73920.000000       3.000000\n",
       "50%    138198.000000  117966.000000       4.000000\n",
       "75%    209373.000000  187724.000000       8.000000\n",
       "max    278854.000000  340555.000000      10.000000"
      ]
     },
     "execution_count": 8,
     "metadata": {},
     "output_type": "execute_result"
    }
   ],
   "source": [
    "df_br.describe()"
   ]
  },
  {
   "cell_type": "code",
   "execution_count": 22,
   "metadata": {},
   "outputs": [],
   "source": [
    "data_br = SurpriseDataset.load_from_df(df_br, reader=Reader(rating_scale=(1, 10)))"
   ]
  },
  {
   "cell_type": "markdown",
   "metadata": {},
   "source": [
    "#### Grid Search"
   ]
  },
  {
   "cell_type": "code",
   "execution_count": null,
   "metadata": {},
   "outputs": [],
   "source": [
    "#grid search for SVD hyperparameters\n",
    "param_grid = {'lr_all': [0.001, 0.002, 0.003, 0.004, 0.005],\n",
    "              'reg_all': [0.1, 0.2, 0.3, 0.4]}\n",
    "grid_search = GridSearch(SVD, param_grid, measures=['RMSE'])\n",
    "grid_search.evaluate(data_br)"
   ]
  },
  {
   "cell_type": "code",
   "execution_count": null,
   "metadata": {},
   "outputs": [],
   "source": [
    "#grid search for NMF hyperparameters\n",
    "param_grid = {'lr_all': [0.001, 0.002, 0.003, 0.004, 0.005],\n",
    "              'reg_all': [0.1, 0.2, 0.3, 0.4]}\n",
    "grid_search = GridSearch(NMF, param_grid, measures=['RMSE'])\n",
    "grid_search.evaluate(data_br)"
   ]
  },
  {
   "cell_type": "markdown",
   "metadata": {},
   "source": [
    "#### SVD"
   ]
  },
  {
   "cell_type": "code",
   "execution_count": 16,
   "metadata": {},
   "outputs": [
    {
     "name": "stdout",
     "output_type": "stream",
     "text": [
      "Evaluating RMSE of algorithm SVD on 3 split(s).\n",
      "\n",
      "                  Fold 1  Fold 2  Fold 3  Mean    Std     \n",
      "RMSE (testset)    1.6479  1.6461  1.6516  1.6485  0.0023  \n",
      "Fit time          89.90   95.09   82.65   89.21   5.10    \n",
      "Test time         5.38    4.91    3.74    4.68    0.69    \n"
     ]
    }
   ],
   "source": [
    "algo = SVD(n_factors=100, n_epochs=30, lr_all=0.005, reg_all=0.03)\n",
    "cross_validate(algo, data_br, measures=['RMSE'], cv=3, verbose=True)"
   ]
  },
  {
   "cell_type": "markdown",
   "metadata": {},
   "source": [
    "#### NMF"
   ]
  },
  {
   "cell_type": "code",
   "execution_count": 54,
   "metadata": {},
   "outputs": [
    {
     "name": "stdout",
     "output_type": "stream",
     "text": [
      "Evaluating RMSE of algorithm NMF on 3 split(s).\n",
      "\n",
      "                  Fold 1  Fold 2  Fold 3  Mean    Std     \n",
      "RMSE (testset)    2.4404  2.4532  2.4369  2.4435  0.0070  \n",
      "Fit time          0.55    0.58    0.61    0.58    0.03    \n",
      "Test time         0.02    0.02    0.01    0.02    0.00    \n"
     ]
    }
   ],
   "source": [
    "algo = NMF(n_factors=30, n_epochs=50, reg_pu=0.5, reg_qi=0.05)\n",
    "cross_validate(algo, data_br, measures=['RMSE'], cv=3, verbose=True)"
   ]
  },
  {
   "cell_type": "markdown",
   "metadata": {},
   "source": [
    "#### KNNwithMeans"
   ]
  },
  {
   "cell_type": "code",
   "execution_count": 55,
   "metadata": {},
   "outputs": [
    {
     "name": "stdout",
     "output_type": "stream",
     "text": [
      "Computing the msd similarity matrix...\n",
      "Done computing similarity matrix.\n",
      "Computing the msd similarity matrix...\n",
      "Done computing similarity matrix.\n",
      "Computing the msd similarity matrix...\n",
      "Done computing similarity matrix.\n",
      "Evaluating RMSE of algorithm KNNWithMeans on 3 split(s).\n",
      "\n",
      "                  Fold 1  Fold 2  Fold 3  Mean    Std     \n",
      "RMSE (testset)    1.8602  1.8512  1.8627  1.9780  0.0049  \n",
      "Fit time          0.08    0.07    0.05    0.07    0.01    \n",
      "Test time         0.02    0.02    0.02    0.02    0.00    \n"
     ]
    }
   ],
   "source": [
    "algo = KNNWithMeans(k=40)\n",
    "cross_validate(algo, data_br2, measures=['RMSE'], cv=3, verbose=True)"
   ]
  },
  {
   "cell_type": "markdown",
   "metadata": {},
   "source": [
    "#### Fast.ai"
   ]
  },
  {
   "cell_type": "code",
   "execution_count": 96,
   "metadata": {},
   "outputs": [
    {
     "name": "stdout",
     "output_type": "stream",
     "text": [
      " Mean squared error on predictions =  1.8569\n"
     ]
    }
   ],
   "source": [
    "df_br = df_br.astype(float)\n",
    "val_indx = get_cv_idxs(len(df_br))  # index for validation set\n",
    "wd = 2e-4 # weight decay\n",
    "n_factors = 50 # n_factors\n",
    "cf = CollabFilterDataset.from_data_frame('.', df_br, 'User-ID', 'ISBN', 'Book-Rating')\n",
    "cf.users = cf.users.astype(float)\n",
    "\n",
    "learn = cf.get_learner(n_factors, val_indx, bs=64, opt_fn=optim.Adam)\n",
    "learn.fit(1e-2,2, wds = wd, cycle_len=1, cycle_mult=2)\n",
    "\n",
    "#prediction on validation\n",
    "preds = learn.predict() \n",
    "y=learn.data.val_y\n",
    "print(' Mean squared error on predictions = ', math.sqrt(metrics.mean_squared_error(y,preds)))"
   ]
  },
  {
   "cell_type": "markdown",
   "metadata": {},
   "source": [
    "### MovieLens Dataset"
   ]
  },
  {
   "cell_type": "code",
   "execution_count": 40,
   "metadata": {},
   "outputs": [],
   "source": [
    "u_cols = ['user_id', 'age', 'sex', 'occupation', 'zip_code']\n",
    "users = pd.read_csv('ml-100k/u.user', sep='|', names=u_cols,\n",
    "                    encoding='latin-1')\n",
    "\n",
    "r_cols = ['user_id', 'movie_id', 'rating', 'unix_timestamp']\n",
    "ratings = pd.read_csv('ml-100k/u.data', sep='\\t', names=r_cols,\n",
    "                      encoding='latin-1')\n",
    "\n",
    "m_cols = ['movie_id', 'title', 'release_date', 'video_release_date', 'imdb_url']\n",
    "movies = pd.read_csv('ml-100k/u.item', sep='|', names=m_cols, usecols=range(5),\n",
    "                     encoding='latin-1')"
   ]
  },
  {
   "cell_type": "code",
   "execution_count": 45,
   "metadata": {},
   "outputs": [
    {
     "data": {
      "text/plain": [
       "(100000, 943, 1682)"
      ]
     },
     "execution_count": 45,
     "metadata": {},
     "output_type": "execute_result"
    }
   ],
   "source": [
    "len(ratings), ratings.user_id.unique().size, ratings.movie_id.unique().size"
   ]
  },
  {
   "cell_type": "code",
   "execution_count": 46,
   "metadata": {},
   "outputs": [
    {
     "data": {
      "text/html": [
       "<div>\n",
       "<style>\n",
       "    .dataframe thead tr:only-child th {\n",
       "        text-align: right;\n",
       "    }\n",
       "\n",
       "    .dataframe thead th {\n",
       "        text-align: left;\n",
       "    }\n",
       "\n",
       "    .dataframe tbody tr th {\n",
       "        vertical-align: top;\n",
       "    }\n",
       "</style>\n",
       "<table border=\"1\" class=\"dataframe\">\n",
       "  <thead>\n",
       "    <tr style=\"text-align: right;\">\n",
       "      <th></th>\n",
       "      <th>user_id</th>\n",
       "      <th>movie_id</th>\n",
       "      <th>rating</th>\n",
       "      <th>unix_timestamp</th>\n",
       "    </tr>\n",
       "  </thead>\n",
       "  <tbody>\n",
       "    <tr>\n",
       "      <th>57542</th>\n",
       "      <td>269</td>\n",
       "      <td>663</td>\n",
       "      <td>4</td>\n",
       "      <td>891449880</td>\n",
       "    </tr>\n",
       "    <tr>\n",
       "      <th>83619</th>\n",
       "      <td>936</td>\n",
       "      <td>1190</td>\n",
       "      <td>3</td>\n",
       "      <td>886833707</td>\n",
       "    </tr>\n",
       "    <tr>\n",
       "      <th>21564</th>\n",
       "      <td>44</td>\n",
       "      <td>1</td>\n",
       "      <td>4</td>\n",
       "      <td>878341315</td>\n",
       "    </tr>\n",
       "    <tr>\n",
       "      <th>15062</th>\n",
       "      <td>377</td>\n",
       "      <td>323</td>\n",
       "      <td>2</td>\n",
       "      <td>891297001</td>\n",
       "    </tr>\n",
       "    <tr>\n",
       "      <th>99514</th>\n",
       "      <td>732</td>\n",
       "      <td>269</td>\n",
       "      <td>5</td>\n",
       "      <td>882589593</td>\n",
       "    </tr>\n",
       "  </tbody>\n",
       "</table>\n",
       "</div>"
      ],
      "text/plain": [
       "       user_id  movie_id  rating  unix_timestamp\n",
       "57542      269       663       4       891449880\n",
       "83619      936      1190       3       886833707\n",
       "21564       44         1       4       878341315\n",
       "15062      377       323       2       891297001\n",
       "99514      732       269       5       882589593"
      ]
     },
     "execution_count": 46,
     "metadata": {},
     "output_type": "execute_result"
    }
   ],
   "source": [
    "ratings.sample(5)"
   ]
  },
  {
   "cell_type": "code",
   "execution_count": 47,
   "metadata": {},
   "outputs": [
    {
     "data": {
      "text/html": [
       "<div>\n",
       "<style>\n",
       "    .dataframe thead tr:only-child th {\n",
       "        text-align: right;\n",
       "    }\n",
       "\n",
       "    .dataframe thead th {\n",
       "        text-align: left;\n",
       "    }\n",
       "\n",
       "    .dataframe tbody tr th {\n",
       "        vertical-align: top;\n",
       "    }\n",
       "</style>\n",
       "<table border=\"1\" class=\"dataframe\">\n",
       "  <thead>\n",
       "    <tr style=\"text-align: right;\">\n",
       "      <th></th>\n",
       "      <th>user_id</th>\n",
       "      <th>movie_id</th>\n",
       "      <th>rating</th>\n",
       "      <th>unix_timestamp</th>\n",
       "    </tr>\n",
       "  </thead>\n",
       "  <tbody>\n",
       "    <tr>\n",
       "      <th>count</th>\n",
       "      <td>100000.00000</td>\n",
       "      <td>100000.000000</td>\n",
       "      <td>100000.000000</td>\n",
       "      <td>1.000000e+05</td>\n",
       "    </tr>\n",
       "    <tr>\n",
       "      <th>mean</th>\n",
       "      <td>462.48475</td>\n",
       "      <td>425.530130</td>\n",
       "      <td>3.529860</td>\n",
       "      <td>8.835289e+08</td>\n",
       "    </tr>\n",
       "    <tr>\n",
       "      <th>std</th>\n",
       "      <td>266.61442</td>\n",
       "      <td>330.798356</td>\n",
       "      <td>1.125674</td>\n",
       "      <td>5.343856e+06</td>\n",
       "    </tr>\n",
       "    <tr>\n",
       "      <th>min</th>\n",
       "      <td>1.00000</td>\n",
       "      <td>1.000000</td>\n",
       "      <td>1.000000</td>\n",
       "      <td>8.747247e+08</td>\n",
       "    </tr>\n",
       "    <tr>\n",
       "      <th>25%</th>\n",
       "      <td>254.00000</td>\n",
       "      <td>175.000000</td>\n",
       "      <td>3.000000</td>\n",
       "      <td>8.794487e+08</td>\n",
       "    </tr>\n",
       "    <tr>\n",
       "      <th>50%</th>\n",
       "      <td>447.00000</td>\n",
       "      <td>322.000000</td>\n",
       "      <td>4.000000</td>\n",
       "      <td>8.828269e+08</td>\n",
       "    </tr>\n",
       "    <tr>\n",
       "      <th>75%</th>\n",
       "      <td>682.00000</td>\n",
       "      <td>631.000000</td>\n",
       "      <td>4.000000</td>\n",
       "      <td>8.882600e+08</td>\n",
       "    </tr>\n",
       "    <tr>\n",
       "      <th>max</th>\n",
       "      <td>943.00000</td>\n",
       "      <td>1682.000000</td>\n",
       "      <td>5.000000</td>\n",
       "      <td>8.932866e+08</td>\n",
       "    </tr>\n",
       "  </tbody>\n",
       "</table>\n",
       "</div>"
      ],
      "text/plain": [
       "            user_id       movie_id         rating  unix_timestamp\n",
       "count  100000.00000  100000.000000  100000.000000    1.000000e+05\n",
       "mean      462.48475     425.530130       3.529860    8.835289e+08\n",
       "std       266.61442     330.798356       1.125674    5.343856e+06\n",
       "min         1.00000       1.000000       1.000000    8.747247e+08\n",
       "25%       254.00000     175.000000       3.000000    8.794487e+08\n",
       "50%       447.00000     322.000000       4.000000    8.828269e+08\n",
       "75%       682.00000     631.000000       4.000000    8.882600e+08\n",
       "max       943.00000    1682.000000       5.000000    8.932866e+08"
      ]
     },
     "execution_count": 47,
     "metadata": {},
     "output_type": "execute_result"
    }
   ],
   "source": [
    "ratings.describe()"
   ]
  },
  {
   "cell_type": "code",
   "execution_count": 52,
   "metadata": {},
   "outputs": [],
   "source": [
    "data_ml = SurpriseDataset.load_from_df(ratings[ratings.columns[0:3]] , reader=Reader(rating_scale=(1, 5)))"
   ]
  },
  {
   "cell_type": "code",
   "execution_count": null,
   "metadata": {},
   "outputs": [],
   "source": [
    "#grid search for hyperparameters\n",
    "param_grid = {'lr_all': [0.001, 0.002, 0.003, 0.004, 0.005],\n",
    "              'reg_all': [0.1, 0.2, 0.3, 0.4]}\n",
    "grid_search = GridSearch(SVD, param_grid, measures=['RMSE'])\n",
    "grid_search.evaluate(data_ml)"
   ]
  },
  {
   "cell_type": "code",
   "execution_count": null,
   "metadata": {},
   "outputs": [],
   "source": [
    "#grid search for hyperparameters\n",
    "param_grid = {'lr_all': [0.001, 0.002, 0.003, 0.004, 0.005],\n",
    "              'reg_all': [0.1, 0.2, 0.3, 0.4]}\n",
    "grid_search = GridSearch(NMF, param_grid, measures=['RMSE'])\n",
    "grid_search.evaluate(data_ml)"
   ]
  },
  {
   "cell_type": "markdown",
   "metadata": {},
   "source": [
    "#### SVD"
   ]
  },
  {
   "cell_type": "code",
   "execution_count": 57,
   "metadata": {},
   "outputs": [
    {
     "name": "stdout",
     "output_type": "stream",
     "text": [
      "Evaluating RMSE of algorithm SVD on 3 split(s).\n",
      "\n",
      "                  Fold 1  Fold 2  Fold 3  Mean    Std     \n",
      "RMSE (testset)    0.9444  0.9477  0.9435  0.9452  0.0018  \n",
      "Fit time          3.01    2.96    4.57    3.51    0.75    \n",
      "Test time         0.45    0.30    0.36    0.37    0.06    \n"
     ]
    }
   ],
   "source": [
    "algo = SVD(n_factors=50, n_epochs=15, lr_all=0.002, reg_all=0.02)\n",
    "cross_validate(algo, data_ml, measures=['RMSE'], cv=3, verbose=True)"
   ]
  },
  {
   "cell_type": "markdown",
   "metadata": {},
   "source": [
    "#### NMF"
   ]
  },
  {
   "cell_type": "code",
   "execution_count": 59,
   "metadata": {},
   "outputs": [
    {
     "name": "stdout",
     "output_type": "stream",
     "text": [
      "Evaluating RMSE of algorithm NMF on 3 split(s).\n",
      "\n",
      "                  Fold 1  Fold 2  Fold 3  Mean    Std     \n",
      "RMSE (testset)    0.9737  0.9702  0.9760  0.9733  0.0024  \n",
      "Fit time          0.37    0.36    0.35    0.36    0.01    \n",
      "Test time         0.01    0.01    0.01    0.01    0.00    \n"
     ]
    }
   ],
   "source": [
    "algo = NMF(n_factors=15, n_epochs=50, reg_pu=0.02, reg_qi=0.02)\n",
    "cross_validate(algo, data_ml, measures=['RMSE'], cv=3, verbose=True)"
   ]
  },
  {
   "cell_type": "markdown",
   "metadata": {},
   "source": [
    "#### KNNwithMeans"
   ]
  },
  {
   "cell_type": "code",
   "execution_count": 62,
   "metadata": {},
   "outputs": [
    {
     "name": "stdout",
     "output_type": "stream",
     "text": [
      "Computing the msd similarity matrix...\n",
      "Done computing similarity matrix.\n",
      "Computing the msd similarity matrix...\n",
      "Done computing similarity matrix.\n",
      "Computing the msd similarity matrix...\n",
      "Done computing similarity matrix.\n",
      "Evaluating RMSE of algorithm KNNWithMeans on 3 split(s).\n",
      "\n",
      "                  Fold 1  Fold 2  Fold 3  Mean    Std     \n",
      "RMSE (testset)    0.9536  0.9609  0.9526  0.9557  0.0037  \n",
      "Fit time          0.50    1.01    0.85    0.79    0.21    \n",
      "Test time         6.24    8.51    7.63    7.46    0.94    \n"
     ]
    }
   ],
   "source": [
    "algo = KNNWithMeans(k=20)\n",
    "cross_validate(algo, data_ml, measures=['RMSE'], cv=3, verbose=True)"
   ]
  },
  {
   "cell_type": "markdown",
   "metadata": {},
   "source": [
    "#### Fast.ai"
   ]
  },
  {
   "cell_type": "code",
   "execution_count": 97,
   "metadata": {},
   "outputs": [
    {
     "name": "stdout",
     "output_type": "stream",
     "text": [
      " Mean squared error on predictions =  0.87488\n"
     ]
    }
   ],
   "source": [
    "ratings = ratings[ratings.columns[0:3]]\n",
    "ratings = ratings.astype(float)\n",
    "val_indx = get_cv_idxs(len(ratings))  # index for validation set\n",
    "wd = 1e-4 # weight decay\n",
    "n_factors = 50 # n_factors\n",
    "cf = CollabFilterDataset.from_data_frame('.', ratings, 'user_id', 'movie_id', 'rating')\n",
    "cf.users = cf.users.astype(float)\n",
    "\n",
    "learn = cf.get_learner(n_factors, val_indx, bs=32, opt_fn=optim.Adam)\n",
    "learn.fit(1e-2,5, wds = wd, cycle_len=1, cycle_mult=2)\n",
    "\n",
    "#prediction on validation\n",
    "preds = learn.predict() \n",
    "y=learn.data.val_y\n",
    "print(' Mean squared error on predictions = ', math.sqrt(metrics.mean_squared_error(y,preds)))"
   ]
  },
  {
   "cell_type": "markdown",
   "metadata": {},
   "source": [
    "### Jester Dataset"
   ]
  },
  {
   "cell_type": "code",
   "execution_count": 66,
   "metadata": {},
   "outputs": [],
   "source": [
    "df_jester = pd.read_csv('jester_ratings.csv')"
   ]
  },
  {
   "cell_type": "code",
   "execution_count": 67,
   "metadata": {},
   "outputs": [
    {
     "data": {
      "text/html": [
       "<div>\n",
       "<style>\n",
       "    .dataframe thead tr:only-child th {\n",
       "        text-align: right;\n",
       "    }\n",
       "\n",
       "    .dataframe thead th {\n",
       "        text-align: left;\n",
       "    }\n",
       "\n",
       "    .dataframe tbody tr th {\n",
       "        vertical-align: top;\n",
       "    }\n",
       "</style>\n",
       "<table border=\"1\" class=\"dataframe\">\n",
       "  <thead>\n",
       "    <tr style=\"text-align: right;\">\n",
       "      <th></th>\n",
       "      <th>user_id</th>\n",
       "      <th>joke_id</th>\n",
       "      <th>rating</th>\n",
       "    </tr>\n",
       "  </thead>\n",
       "  <tbody>\n",
       "    <tr>\n",
       "      <th>619937</th>\n",
       "      <td>36087</td>\n",
       "      <td>13</td>\n",
       "      <td>-3.281</td>\n",
       "    </tr>\n",
       "    <tr>\n",
       "      <th>201980</th>\n",
       "      <td>52448</td>\n",
       "      <td>124</td>\n",
       "      <td>9.062</td>\n",
       "    </tr>\n",
       "    <tr>\n",
       "      <th>222448</th>\n",
       "      <td>42072</td>\n",
       "      <td>19</td>\n",
       "      <td>-1.938</td>\n",
       "    </tr>\n",
       "    <tr>\n",
       "      <th>798012</th>\n",
       "      <td>38087</td>\n",
       "      <td>150</td>\n",
       "      <td>-0.688</td>\n",
       "    </tr>\n",
       "    <tr>\n",
       "      <th>341176</th>\n",
       "      <td>63759</td>\n",
       "      <td>48</td>\n",
       "      <td>0.188</td>\n",
       "    </tr>\n",
       "  </tbody>\n",
       "</table>\n",
       "</div>"
      ],
      "text/plain": [
       "        user_id  joke_id  rating\n",
       "619937    36087       13  -3.281\n",
       "201980    52448      124   9.062\n",
       "222448    42072       19  -1.938\n",
       "798012    38087      150  -0.688\n",
       "341176    63759       48   0.188"
      ]
     },
     "execution_count": 67,
     "metadata": {},
     "output_type": "execute_result"
    }
   ],
   "source": [
    "df_jester.sample(5)"
   ]
  },
  {
   "cell_type": "code",
   "execution_count": 68,
   "metadata": {},
   "outputs": [
    {
     "data": {
      "text/html": [
       "<div>\n",
       "<style>\n",
       "    .dataframe thead tr:only-child th {\n",
       "        text-align: right;\n",
       "    }\n",
       "\n",
       "    .dataframe thead th {\n",
       "        text-align: left;\n",
       "    }\n",
       "\n",
       "    .dataframe tbody tr th {\n",
       "        vertical-align: top;\n",
       "    }\n",
       "</style>\n",
       "<table border=\"1\" class=\"dataframe\">\n",
       "  <thead>\n",
       "    <tr style=\"text-align: right;\">\n",
       "      <th></th>\n",
       "      <th>user_id</th>\n",
       "      <th>joke_id</th>\n",
       "      <th>rating</th>\n",
       "    </tr>\n",
       "  </thead>\n",
       "  <tbody>\n",
       "    <tr>\n",
       "      <th>count</th>\n",
       "      <td>1000000.000000</td>\n",
       "      <td>1000000.000000</td>\n",
       "      <td>1000000.000000</td>\n",
       "    </tr>\n",
       "    <tr>\n",
       "      <th>mean</th>\n",
       "      <td>32737.979550</td>\n",
       "      <td>70.710539</td>\n",
       "      <td>1.618454</td>\n",
       "    </tr>\n",
       "    <tr>\n",
       "      <th>std</th>\n",
       "      <td>18282.777812</td>\n",
       "      <td>46.004394</td>\n",
       "      <td>5.303466</td>\n",
       "    </tr>\n",
       "    <tr>\n",
       "      <th>min</th>\n",
       "      <td>1.000000</td>\n",
       "      <td>5.000000</td>\n",
       "      <td>-10.000000</td>\n",
       "    </tr>\n",
       "    <tr>\n",
       "      <th>25%</th>\n",
       "      <td>17217.000000</td>\n",
       "      <td>21.000000</td>\n",
       "      <td>-2.031000</td>\n",
       "    </tr>\n",
       "    <tr>\n",
       "      <th>50%</th>\n",
       "      <td>34837.000000</td>\n",
       "      <td>69.000000</td>\n",
       "      <td>2.250000</td>\n",
       "    </tr>\n",
       "    <tr>\n",
       "      <th>75%</th>\n",
       "      <td>47302.000000</td>\n",
       "      <td>112.000000</td>\n",
       "      <td>5.719000</td>\n",
       "    </tr>\n",
       "    <tr>\n",
       "      <th>max</th>\n",
       "      <td>63978.000000</td>\n",
       "      <td>150.000000</td>\n",
       "      <td>10.000000</td>\n",
       "    </tr>\n",
       "  </tbody>\n",
       "</table>\n",
       "</div>"
      ],
      "text/plain": [
       "              user_id         joke_id          rating\n",
       "count  1000000.000000  1000000.000000  1000000.000000\n",
       "mean     32737.979550       70.710539        1.618454\n",
       "std      18282.777812       46.004394        5.303466\n",
       "min          1.000000        5.000000      -10.000000\n",
       "25%      17217.000000       21.000000       -2.031000\n",
       "50%      34837.000000       69.000000        2.250000\n",
       "75%      47302.000000      112.000000        5.719000\n",
       "max      63978.000000      150.000000       10.000000"
      ]
     },
     "execution_count": 68,
     "metadata": {},
     "output_type": "execute_result"
    }
   ],
   "source": [
    "df_jester.describe() "
   ]
  },
  {
   "cell_type": "code",
   "execution_count": 70,
   "metadata": {},
   "outputs": [],
   "source": [
    "data_jst = SurpriseDataset.load_from_df(df_jester, reader=Reader(rating_scale=(-10, 10)))"
   ]
  },
  {
   "cell_type": "markdown",
   "metadata": {},
   "source": [
    "#### Grid Search"
   ]
  },
  {
   "cell_type": "code",
   "execution_count": null,
   "metadata": {},
   "outputs": [],
   "source": [
    "#grid search for SVD hyperparameters\n",
    "param_grid = {'lr_all': [0.001, 0.002, 0.003, 0.004, 0.005],\n",
    "              'reg_all': [0.1, 0.2, 0.3, 0.4]}\n",
    "grid_search = GridSearch(SVD, param_grid, measures=['RMSE'])\n",
    "grid_search.evaluate(data_jst)"
   ]
  },
  {
   "cell_type": "code",
   "execution_count": null,
   "metadata": {},
   "outputs": [],
   "source": [
    "#grid search for NMF hyperparameters\n",
    "param_grid = {'lr_all': [0.001, 0.002, 0.003, 0.004, 0.005],\n",
    "              'reg_all': [0.1, 0.2, 0.3, 0.4]}\n",
    "grid_search = GridSearch(NMF, param_grid, measures=['RMSE'])\n",
    "grid_search.evaluate(data_jst)"
   ]
  },
  {
   "cell_type": "markdown",
   "metadata": {},
   "source": [
    "#### SVD"
   ]
  },
  {
   "cell_type": "code",
   "execution_count": 16,
   "metadata": {},
   "outputs": [
    {
     "name": "stdout",
     "output_type": "stream",
     "text": [
      "Evaluating RMSE of algorithm SVD on 3 split(s).\n",
      "\n",
      "                  Fold 1  Fold 2  Fold 3  Mean    Std     \n",
      "RMSE (testset)    4.3871  4.3857  4.3769  4.3833  0.0045  \n",
      "Fit time          89.90   95.09   82.65   89.21   5.10    \n",
      "Test time         5.38    4.91    3.74    4.68    0.69    \n"
     ]
    }
   ],
   "source": [
    "algo = SVD(n_factors=100, n_epochs=20, lr_all=0.001, reg_all=0.02)\n",
    "cross_validate(algo, data_jst, measures=['RMSE'], cv=3, verbose=True)"
   ]
  },
  {
   "cell_type": "markdown",
   "metadata": {},
   "source": [
    "#### NMF"
   ]
  },
  {
   "cell_type": "code",
   "execution_count": 54,
   "metadata": {},
   "outputs": [
    {
     "name": "stdout",
     "output_type": "stream",
     "text": [
      "Evaluating RMSE of algorithm NMF on 3 split(s).\n",
      "\n",
      "                  Fold 1  Fold 2  Fold 3  Mean    Std     \n",
      "RMSE (testset)    7.4298  7.4325  7.3367  7.3997  0.0445  \n",
      "Fit time          0.55    0.58    0.61    0.58    0.03    \n",
      "Test time         0.02    0.02    0.01    0.02    0.00    \n"
     ]
    }
   ],
   "source": [
    "algo = NMF(n_factors=40, n_epochs=50, reg_pu=0.6, reg_qi=0.06)\n",
    "cross_validate(algo, data_jst, measures=['RMSE'], cv=3, verbose=True)"
   ]
  },
  {
   "cell_type": "markdown",
   "metadata": {},
   "source": [
    "#### KNNWithMeans"
   ]
  },
  {
   "cell_type": "code",
   "execution_count": 62,
   "metadata": {},
   "outputs": [
    {
     "name": "stdout",
     "output_type": "stream",
     "text": [
      "Computing the msd similarity matrix...\n",
      "Done computing similarity matrix.\n",
      "Computing the msd similarity matrix...\n",
      "Done computing similarity matrix.\n",
      "Computing the msd similarity matrix...\n",
      "Done computing similarity matrix.\n",
      "Evaluating RMSE of algorithm KNNWithMeans on 3 split(s).\n",
      "\n",
      "                  Fold 1  Fold 2  Fold 3  Mean    Std     \n",
      "RMSE (testset)    5.1290  5.1470  5.1131  5.1297  0.0138  \n",
      "Fit time          0.50    1.01    0.85    0.79    0.21    \n",
      "Test time         6.24    8.51    7.63    7.46    0.94    \n"
     ]
    }
   ],
   "source": [
    "algo = KNNWithMeans(k=40)\n",
    "cross_validate(algo, data_jst, measures=['RMSE'], cv=3, verbose=True)"
   ]
  },
  {
   "cell_type": "markdown",
   "metadata": {},
   "source": [
    "#### Fast.ai"
   ]
  },
  {
   "cell_type": "code",
   "execution_count": 98,
   "metadata": {},
   "outputs": [
    {
     "name": "stdout",
     "output_type": "stream",
     "text": [
      " Mean squared error on predictions =  5.358969\n"
     ]
    }
   ],
   "source": [
    "df_jester = df_jester.astype(float)\n",
    "val_indx = get_cv_idxs(len(df_jester))  # index for validation set\n",
    "wd = 1e-4 # weight decay\n",
    "n_factors = 20 # n_factors\n",
    "cf = CollabFilterDataset.from_data_frame('.', df_jester, 'user_id', 'joke_id', 'rating')\n",
    "cf.users = cf.users.astype(float)\n",
    "\n",
    "learn = cf.get_learner(n_factors, val_indx, bs=32, opt_fn=optim.Adam)\n",
    "learn.fit(1e-2,5, wds = wd, cycle_len=1, cycle_mult=2)\n",
    "\n",
    "#prediction on validation\n",
    "preds = learn.predict() \n",
    "y=learn.data.val_y\n",
    "print(' Mean squared error on predictions = ', math.sqrt(metrics.mean_squared_error(y,preds)))"
   ]
  },
  {
   "cell_type": "markdown",
   "metadata": {},
   "source": [
    "## Example Recommendations"
   ]
  },
  {
   "cell_type": "code",
   "execution_count": 73,
   "metadata": {},
   "outputs": [],
   "source": [
    "def get_top_n(predictions, n=10):\n",
    "\n",
    "    # First map the predictions to each user.\n",
    "    top_n = defaultdict(list)\n",
    "    for uid, iid, true_r, est, _ in predictions:\n",
    "        top_n[uid].append((iid, est))\n",
    "\n",
    "    # Then sort the predictions for each user and retrieve the k highest ones.\n",
    "    for uid, user_ratings in top_n.items():\n",
    "        user_ratings.sort(key=lambda x: x[1], reverse=True)\n",
    "        top_n[uid] = user_ratings[:n]\n",
    "\n",
    "    return top_n"
   ]
  },
  {
   "cell_type": "code",
   "execution_count": 74,
   "metadata": {},
   "outputs": [
    {
     "data": {
      "text/plain": [
       "<surprise.prediction_algorithms.matrix_factorization.SVD at 0x1a24e629e8>"
      ]
     },
     "execution_count": 74,
     "metadata": {},
     "output_type": "execute_result"
    }
   ],
   "source": [
    "trainset = data_ml.build_full_trainset()\n",
    "algo = SVD()\n",
    "algo.train(trainset)"
   ]
  },
  {
   "cell_type": "code",
   "execution_count": 75,
   "metadata": {},
   "outputs": [],
   "source": [
    "testset = trainset.build_anti_testset()\n",
    "predictions = algo.test(testset)"
   ]
  },
  {
   "cell_type": "code",
   "execution_count": 80,
   "metadata": {},
   "outputs": [],
   "source": [
    "top_n = get_top_n(predictions, n=10)"
   ]
  },
  {
   "cell_type": "code",
   "execution_count": 93,
   "metadata": {},
   "outputs": [
    {
     "data": {
      "text/html": [
       "<div>\n",
       "<style>\n",
       "    .dataframe thead tr:only-child th {\n",
       "        text-align: right;\n",
       "    }\n",
       "\n",
       "    .dataframe thead th {\n",
       "        text-align: left;\n",
       "    }\n",
       "\n",
       "    .dataframe tbody tr th {\n",
       "        vertical-align: top;\n",
       "    }\n",
       "</style>\n",
       "<table border=\"1\" class=\"dataframe\">\n",
       "  <thead>\n",
       "    <tr style=\"text-align: right;\">\n",
       "      <th></th>\n",
       "      <th>movie_id</th>\n",
       "      <th>prediction</th>\n",
       "    </tr>\n",
       "  </thead>\n",
       "  <tbody>\n",
       "    <tr>\n",
       "      <th>0</th>\n",
       "      <td>173</td>\n",
       "      <td>4.446725</td>\n",
       "    </tr>\n",
       "    <tr>\n",
       "      <th>1</th>\n",
       "      <td>318</td>\n",
       "      <td>4.441936</td>\n",
       "    </tr>\n",
       "    <tr>\n",
       "      <th>2</th>\n",
       "      <td>12</td>\n",
       "      <td>4.430570</td>\n",
       "    </tr>\n",
       "    <tr>\n",
       "      <th>3</th>\n",
       "      <td>172</td>\n",
       "      <td>4.348763</td>\n",
       "    </tr>\n",
       "    <tr>\n",
       "      <th>4</th>\n",
       "      <td>483</td>\n",
       "      <td>4.318119</td>\n",
       "    </tr>\n",
       "    <tr>\n",
       "      <th>5</th>\n",
       "      <td>174</td>\n",
       "      <td>4.293846</td>\n",
       "    </tr>\n",
       "    <tr>\n",
       "      <th>6</th>\n",
       "      <td>14</td>\n",
       "      <td>4.273068</td>\n",
       "    </tr>\n",
       "    <tr>\n",
       "      <th>7</th>\n",
       "      <td>408</td>\n",
       "      <td>4.269838</td>\n",
       "    </tr>\n",
       "    <tr>\n",
       "      <th>8</th>\n",
       "      <td>527</td>\n",
       "      <td>4.243179</td>\n",
       "    </tr>\n",
       "    <tr>\n",
       "      <th>9</th>\n",
       "      <td>64</td>\n",
       "      <td>4.229018</td>\n",
       "    </tr>\n",
       "  </tbody>\n",
       "</table>\n",
       "</div>"
      ],
      "text/plain": [
       "   movie_id  prediction\n",
       "0       173    4.446725\n",
       "1       318    4.441936\n",
       "2        12    4.430570\n",
       "3       172    4.348763\n",
       "4       483    4.318119\n",
       "5       174    4.293846\n",
       "6        14    4.273068\n",
       "7       408    4.269838\n",
       "8       527    4.243179\n",
       "9        64    4.229018"
      ]
     },
     "execution_count": 93,
     "metadata": {},
     "output_type": "execute_result"
    }
   ],
   "source": [
    "# Prediction for user_id = 68\n",
    "top_pred = pd.DataFrame.from_dict(top_n[68])\n",
    "top_pred.columns = ['movie_id', 'prediction']\n",
    "top_pred"
   ]
  },
  {
   "cell_type": "markdown",
   "metadata": {},
   "source": [
    "## Comparison"
   ]
  },
  {
   "cell_type": "code",
   "execution_count": 94,
   "metadata": {},
   "outputs": [],
   "source": [
    "# Results from RMSE scores\n",
    "\n",
    "#KMeans\n",
    "Kme = (1.9780, 0.9557, 5.1297 )\n",
    "\n",
    "#SVD\n",
    "\n",
    "SVDM = (1.6485, 0.9452, 4.3833)\n",
    "\n",
    "#DL\n",
    "\n",
    "DL = (1.8569, 0.76542, 5.358969)\n",
    "\n",
    "#NMF\n",
    "\n",
    "NMF = (2.4435, 0.9733, 7.3997)"
   ]
  },
  {
   "cell_type": "code",
   "execution_count": 95,
   "metadata": {},
   "outputs": [
    {
     "data": {
      "text/plain": [
       "<matplotlib.legend.Legend at 0x1a2828fb38>"
      ]
     },
     "execution_count": 95,
     "metadata": {},
     "output_type": "execute_result"
    },
    {
     "data": {
      "image/png": "[encoded data removed]",
      "text/plain": [
       "<matplotlib.figure.Figure at 0x1a24bbaa90>"
      ]
     },
     "metadata": {},
     "output_type": "display_data"
    }
   ],
   "source": [
    "N = 3\n",
    "fig, ax = plt.subplots(figsize=(10,8))\n",
    "\n",
    "c = sns.color_palette(palette='colorblind', n_colors=4)\n",
    "\n",
    "ind = np.arange(N)    # the x locations for the groups\n",
    "width = 0.15         # the width of the bars\n",
    "p1 = ax.bar(ind, SVDM, width, color=c[0], bottom=0)\n",
    "\n",
    "p2 = ax.bar(ind+ width, NMF, width, color=c[1], bottom=0)\n",
    "\n",
    "p3 = ax.bar(ind+ width*2, Kme, width, color=c[2], bottom=0)\n",
    "\n",
    "p4 = ax.bar(ind+ width*3, DL, width, color=c[3], bottom=0)\n",
    "\n",
    "\n",
    "ax.set_title('Root Mean Squared Error of CF methods', weight='semibold')\n",
    "ax.set_xticks(ind + width*1.5)\n",
    "ax.set_xticklabels(('Book-Crossing', 'MovieLens', 'Jester'), weight='semibold', size='medium')\n",
    "\n",
    "ax.legend((p1[0], p2[0], p3[0], p4[0]), ('SVD', 'NMF', 'KNNwithMeans', 'DL'), fontsize='medium')"
   ]
  }
 ],
 "metadata": {
  "kernelspec": {
   "display_name": "Python 3",
   "language": "python",
   "name": "python3"
  },
  "language_info": {
   "codemirror_mode": {
    "name": "ipython",
    "version": 3
   },
   "file_extension": ".py",
   "mimetype": "text/x-python",
   "name": "python",
   "nbconvert_exporter": "python",
   "pygments_lexer": "ipython3",
   "version": "3.6.3"
  }
 },
 "nbformat": 4,
 "nbformat_minor": 2
}
